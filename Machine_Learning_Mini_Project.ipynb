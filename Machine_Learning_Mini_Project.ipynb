{
  "nbformat": 4,
  "nbformat_minor": 0,
  "metadata": {
    "colab": {
      "name": "Suryadev_Singh_Parihar.ipynb",
      "provenance": [],
      "authorship_tag": "ABX9TyPxxhxcEgLC4IH9M6yJ7PR6",
      "include_colab_link": true
    },
    "kernelspec": {
      "name": "python3",
      "display_name": "Python 3"
    }
  },
  "cells": [
    {
      "cell_type": "markdown",
      "metadata": {
        "id": "view-in-github",
        "colab_type": "text"
      },
      "source": [
        "<a href=\"https://colab.research.google.com/github/suryadevsingh23999/Image-Processing/blob/main/Machine_Learning_Mini_Project.ipynb\" target=\"_parent\"><img src=\"https://colab.research.google.com/assets/colab-badge.svg\" alt=\"Open In Colab\"/></a>"
      ]
    },
    {
      "cell_type": "markdown",
      "metadata": {
        "id": "WV5b8JbsFPFg"
      },
      "source": [
        "##Python and Machine Learning Mini-Project :"
      ]
    },
    {
      "cell_type": "markdown",
      "metadata": {
        "id": "0aHDVeDk7q8c"
      },
      "source": [
        "Importing Libraries :"
      ]
    },
    {
      "cell_type": "markdown",
      "metadata": {
        "id": "KwxkTk3u_SKs"
      },
      "source": [
        "Importing Libraries that I will be using in this project "
      ]
    },
    {
      "cell_type": "code",
      "metadata": {
        "id": "r2dlO2T97NzO"
      },
      "source": [
        "import pandas as pd\n",
        "import numpy as np"
      ],
      "execution_count": null,
      "outputs": []
    },
    {
      "cell_type": "markdown",
      "metadata": {
        "id": "zWavVwyV_4A8"
      },
      "source": [
        "Exploring the Data :"
      ]
    },
    {
      "cell_type": "markdown",
      "metadata": {
        "id": "DFOvMPv3DRxW"
      },
      "source": [
        "The data we will use for this example is the Iris dataset a classical dataset in Machine Learning and Statistics. It is included in Scikit-learn in the dataset module. We can load it by calling the load_iris function :"
      ]
    },
    {
      "cell_type": "code",
      "metadata": {
        "id": "J0x_ZinvEqvc"
      },
      "source": [
        "from sklearn.datasets import load_iris\n",
        "iris_dataset = load_iris()"
      ],
      "execution_count": null,
      "outputs": []
    },
    {
      "cell_type": "markdown",
      "metadata": {
        "id": "8fsd8jofE6yX"
      },
      "source": [
        "The iris object that is returned by load_iris is a Bunch object, which is very similar to a dictionary. It contains keys and values :"
      ]
    },
    {
      "cell_type": "code",
      "metadata": {
        "colab": {
          "base_uri": "https://localhost:8080/"
        },
        "id": "czCjNURDGQUP",
        "outputId": "29b0ba6a-a6d5-4993-cf2a-92e70e6cf40d"
      },
      "source": [
        "print we(\"keys of iris_dataset: \\n{}\".format (iris_dataset.keys()))"
      ],
      "execution_count": null,
      "outputs": [
        {
          "output_type": "stream",
          "text": [
            "keys of iris_dataset: \n",
            "dict_keys(['data', 'target', 'target_names', 'DESCR', 'feature_names', 'filename'])\n"
          ],
          "name": "stdout"
        }
      ]
    },
    {
      "cell_type": "markdown",
      "metadata": {
        "id": "s8Yph_8GG8EL"
      },
      "source": [
        "The value of the key DESCR is a short description of the dataset. Lets look at what it contains :"
      ]
    },
    {
      "cell_type": "code",
      "metadata": {
        "colab": {
          "base_uri": "https://localhost:8080/"
        },
        "id": "ugFo4onIHUoc",
        "outputId": "1400eadb-7c06-44aa-8f59-00821973bb3e"
      },
      "source": [
        "print(iris_dataset['DESCR'][:193] + \"\\n...\")"
      ],
      "execution_count": null,
      "outputs": [
        {
          "output_type": "stream",
          "text": [
            ".. _iris_dataset:\n",
            "\n",
            "Iris plants dataset\n",
            "--------------------\n",
            "\n",
            "**Data Set Characteristics:**\n",
            "\n",
            "    :Number of Instances: 150 (50 in each of three classes)\n",
            "    :Number of Attributes: 4 numeric, pre\n",
            "...\n"
          ],
          "name": "stdout"
        }
      ]
    },
    {
      "cell_type": "markdown",
      "metadata": {
        "id": "IfNIC_YwIowL"
      },
      "source": [
        "As we can see it contains some information about the dataset itself, feel free to go through it to understand more about the dataset.\n",
        "Lets move to the target_names.\n",
        "The value of the key target_names is an array of strings, containing the species of flower that we want to predict i.e. 'setosa' 'versicolor' and 'virginica'."
      ]
    },
    {
      "cell_type": "code",
      "metadata": {
        "colab": {
          "base_uri": "https://localhost:8080/"
        },
        "id": "A86GfhDaKo3e",
        "outputId": "8a4f12d5-1267-4342-fc91-ab45d3fa61ec"
      },
      "source": [
        "print (\"Target names: {}\".format(iris_dataset['target_names']))"
      ],
      "execution_count": null,
      "outputs": [
        {
          "output_type": "stream",
          "text": [
            "Target names: ['setosa' 'versicolor' 'virginica']\n"
          ],
          "name": "stdout"
        }
      ]
    },
    {
      "cell_type": "markdown",
      "metadata": {
        "id": "TtrdFXnGLvqx"
      },
      "source": [
        "Next in line is the feature_names."
      ]
    },
    {
      "cell_type": "markdown",
      "metadata": {
        "id": "Pf2Wj8zGM5s5"
      },
      "source": [
        "The value of feature_names is a list of strings, giving the description of each feature it includes the 'sepal length','sepal width','petal length' and 'petal width' all in centimeter(cm)"
      ]
    },
    {
      "cell_type": "code",
      "metadata": {
        "colab": {
          "base_uri": "https://localhost:8080/"
        },
        "id": "MQYOH9hoPAvn",
        "outputId": "6a3ee275-c598-4ce1-a28b-4f62dd74a553"
      },
      "source": [
        "print(\"Feature names: \\n{}\".format(iris_dataset['feature_names']))"
      ],
      "execution_count": null,
      "outputs": [
        {
          "output_type": "stream",
          "text": [
            "Feature names: \n",
            "['sepal length (cm)', 'sepal width (cm)', 'petal length (cm)', 'petal width (cm)']\n"
          ],
          "name": "stdout"
        }
      ]
    },
    {
      "cell_type": "markdown",
      "metadata": {
        "id": "HrvZnfGdQx1s"
      },
      "source": [
        "The data that we are going to use is itself contained in the target and data fields. The data contains numeric measurements of sepal length, sepal width, petal length & petal width in a NumPy array:"
      ]
    },
    {
      "cell_type": "code",
      "metadata": {
        "colab": {
          "base_uri": "https://localhost:8080/"
        },
        "id": "b0fv9iMbSEVr",
        "outputId": "58d7b11b-3e8e-4e53-d00a-2b0df37da5d6"
      },
      "source": [
        "print(\"Type of data: {}\".format(type(iris_dataset['data'])))"
      ],
      "execution_count": null,
      "outputs": [
        {
          "output_type": "stream",
          "text": [
            "Type of data: <class 'numpy.ndarray'>\n"
          ],
          "name": "stdout"
        }
      ]
    },
    {
      "cell_type": "markdown",
      "metadata": {
        "id": "zsEb3Qj0Ujwx"
      },
      "source": [
        "The rows in this data array correspond to the flowers, while the columns represent the four measurements that were taken for each flower:"
      ]
    },
    {
      "cell_type": "code",
      "metadata": {
        "colab": {
          "base_uri": "https://localhost:8080/"
        },
        "id": "vT9pu5vMZN41",
        "outputId": "577df5d3-0843-465a-a93d-c078fc2ae0db"
      },
      "source": [
        "print(\"Shape of data: {}\".format(iris_dataset['data'].shape))"
      ],
      "execution_count": null,
      "outputs": [
        {
          "output_type": "stream",
          "text": [
            "Shape of data: (150, 4)\n"
          ],
          "name": "stdout"
        }
      ]
    },
    {
      "cell_type": "markdown",
      "metadata": {
        "id": "VRtwPgWWbY0I"
      },
      "source": [
        "We see that the array contains measurements of 150 flowers remember that the individual items are called samples/data points in Machine Learning and their properties are called features. So we have 150 datapoints and 4 features. The Slope of a data array is the number of samples multipplied by the number of features. This is a convention in scikit-learning and your data will always assumed to be in this shappe. Here are the feature value for the first five samples."
      ]
    },
    {
      "cell_type": "code",
      "metadata": {
        "id": "PUeBMmV_dQJk"
      },
      "source": [
        ""
      ],
      "execution_count": null,
      "outputs": []
    },
    {
      "cell_type": "code",
      "metadata": {
        "id": "wRuz3aa9cWcx",
        "colab": {
          "base_uri": "https://localhost:8080/"
        },
        "outputId": "6470909b-813f-44bc-f27d-2659480ee0c6"
      },
      "source": [
        "print(\"First five columns of data: \\h{}\".format(iris_dataset['data'][:5]))"
      ],
      "execution_count": null,
      "outputs": [
        {
          "output_type": "stream",
          "text": [
            "First five columns of data: \\h[[5.1 3.5 1.4 0.2]\n",
            " [4.9 3.  1.4 0.2]\n",
            " [4.7 3.2 1.3 0.2]\n",
            " [4.6 3.1 1.5 0.2]\n",
            " [5.  3.6 1.4 0.2]]\n"
          ],
          "name": "stdout"
        }
      ]
    },
    {
      "cell_type": "markdown",
      "metadata": {
        "id": "-ghBpekcdQ04"
      },
      "source": [
        "From this data we can see that all of the first five flowers have a petal width of 0.2cm and that the first flower has the longest sepal at 5.1cm So we can make this Output in the form of a table and hence you can informed or understand that which column details represent which feature."
      ]
    },
    {
      "cell_type": "markdown",
      "metadata": {
        "id": "CdEpR9Jqg_F8"
      },
      "source": [
        "Lets come to the last key i.e.the target key, array contains the species of each of the flowers that were measured also as a NumPy array."
      ]
    },
    {
      "cell_type": "code",
      "metadata": {
        "colab": {
          "base_uri": "https://localhost:8080/"
        },
        "id": "pgYmv_g_hWcU",
        "outputId": "f79a1da9-a4fe-4e28-ad67-03272f12099e"
      },
      "source": [
        "print(\"Type of target: {}\".format(type(iris_dataset['target'])))"
      ],
      "execution_count": null,
      "outputs": [
        {
          "output_type": "stream",
          "text": [
            "Type of target: <class 'numpy.ndarray'>\n"
          ],
          "name": "stdout"
        }
      ]
    },
    {
      "cell_type": "markdown",
      "metadata": {
        "id": "sg_GSAfLhuql"
      },
      "source": [
        "Target is a one dimensional array and on seeing the shape we can see that it contains one entry per flower:"
      ]
    },
    {
      "cell_type": "code",
      "metadata": {
        "colab": {
          "base_uri": "https://localhost:8080/"
        },
        "id": "C5p-yLJziK4g",
        "outputId": "f60b8c27-01e9-4750-8b83-1a21e73a805b"
      },
      "source": [
        "print(\"Shape of target:  {}\".format(iris_dataset['target'].shape))"
      ],
      "execution_count": null,
      "outputs": [
        {
          "output_type": "stream",
          "text": [
            "Shape of target:  (150,)\n"
          ],
          "name": "stdout"
        }
      ]
    },
    {
      "cell_type": "markdown",
      "metadata": {
        "id": "IOdLjpoNkxR8"
      },
      "source": [
        "On seeing the target key and exploring the values we can easily see that the species are encoded as integers from 0 to 2:"
      ]
    },
    {
      "cell_type": "code",
      "metadata": {
        "colab": {
          "base_uri": "https://localhost:8080/"
        },
        "id": "g0r6CxMOlDuD",
        "outputId": "5e81904a-d988-46bf-9e29-03fa39d450d5"
      },
      "source": [
        "print(\"Target:\\n{}\".format(iris_dataset['target']))"
      ],
      "execution_count": null,
      "outputs": [
        {
          "output_type": "stream",
          "text": [
            "Target:\n",
            "[0 0 0 0 0 0 0 0 0 0 0 0 0 0 0 0 0 0 0 0 0 0 0 0 0 0 0 0 0 0 0 0 0 0 0 0 0\n",
            " 0 0 0 0 0 0 0 0 0 0 0 0 0 1 1 1 1 1 1 1 1 1 1 1 1 1 1 1 1 1 1 1 1 1 1 1 1\n",
            " 1 1 1 1 1 1 1 1 1 1 1 1 1 1 1 1 1 1 1 1 1 1 1 1 1 1 2 2 2 2 2 2 2 2 2 2 2\n",
            " 2 2 2 2 2 2 2 2 2 2 2 2 2 2 2 2 2 2 2 2 2 2 2 2 2 2 2 2 2 2 2 2 2 2 2 2 2\n",
            " 2 2]\n"
          ],
          "name": "stdout"
        }
      ]
    },
    {
      "cell_type": "markdown",
      "metadata": {
        "id": "EoBKcZNQlWXd"
      },
      "source": [
        "The meaning of the numbers are given by the iris ['target_names'] array : 0 means satosa, 1 means versicolor, and 2 means virginica."
      ]
    },
    {
      "cell_type": "markdown",
      "metadata": {
        "id": "V_9nxqJdnJcX"
      },
      "source": [
        "Measuring Success : Training and Testing Data:"
      ]
    },
    {
      "cell_type": "markdown",
      "metadata": {
        "id": "hSZO1VetnkK8"
      },
      "source": [
        "We want to  build a Machine Learning model from this data that can predict the species of iris for this data a new set of measurements Once the model has been built and trained we would like to test wheather the model actually works, that is wheather we should trust its predections."
      ]
    },
    {
      "cell_type": "markdown",
      "metadata": {
        "id": "vjeNLuDEoHM5"
      },
      "source": [
        "In Scikit learn data is usually denoted with a capital X, while label are donted by a lowercase y .This is inspired by the standard formulation (x)=y in mathematics where x is input to a function and y is the output. Following more conventions from mathematics we use a capital X because the data is a two-dimensional arda/array and a lowercase y because the target is a one-dimensional array."
      ]
    },
    {
      "cell_type": "code",
      "metadata": {
        "id": "Vw2ZWKK3uymy"
      },
      "source": [
        "from sklearn.model_selection import train_test_split\n",
        "X_train, X_test, y_train, y_test = train_test_split(\n",
        "    iris_dataset['data'], iris_dataset['target'], random_state=0\n",
        ")"
      ],
      "execution_count": null,
      "outputs": []
    },
    {
      "cell_type": "markdown",
      "metadata": {
        "id": "E7-2X79A0CVv"
      },
      "source": [
        "The output of the train_test_split function is X_train, X_test, y_train, y_test, which all are NumPy arrays comtains 75% of the rows of the dataset, and X_test contains the remaining 25%"
      ]
    },
    {
      "cell_type": "code",
      "metadata": {
        "colab": {
          "base_uri": "https://localhost:8080/"
        },
        "id": "Xgm6k1p20kh_",
        "outputId": "149b71ac-8453-44a6-e772-1238b215c3d5"
      },
      "source": [
        "print(\"X_train shape:{}\".format(X_train.shape))\n",
        "print(\"y_train shape:{}\".format(y_train.shape))\n",
        "print(\"X_test shape:{}\".format(X_test.shape))\n",
        "print(\"y_test shape:{}\".format(y_test.shape))"
      ],
      "execution_count": null,
      "outputs": [
        {
          "output_type": "stream",
          "text": [
            "X_train shape:(112, 4)\n",
            "y_train shape:(112,)\n",
            "X_test shape:(38, 4)\n",
            "y_test shape:(38,)\n"
          ],
          "name": "stdout"
        }
      ]
    },
    {
      "cell_type": "markdown",
      "metadata": {
        "id": "nTO4suaM1-1Z"
      },
      "source": [
        "Inspecting the Data :"
      ]
    },
    {
      "cell_type": "markdown",
      "metadata": {
        "id": "v2pYMJJ76utb"
      },
      "source": [
        "KNeighbors Classifier :-"
      ]
    },
    {
      "cell_type": "code",
      "metadata": {
        "id": "k88wHMhH2C7B"
      },
      "source": [
        "from sklearn.neighbors import KNeighborsClassifier\n",
        "knn= KNeighborsClassifier(n_neighbors=1)\n"
      ],
      "execution_count": null,
      "outputs": []
    },
    {
      "cell_type": "markdown",
      "metadata": {
        "id": "Ifd4Dopp7w6Y"
      },
      "source": [
        "To build the model on the training set, we call the fit method of the knn object which takes as arguments the NumPy array X_train containing the training data and the NumPy array y_train of the correspondimg from training label"
      ]
    },
    {
      "cell_type": "code",
      "metadata": {
        "colab": {
          "base_uri": "https://localhost:8080/"
        },
        "id": "vrje_iUR8dcP",
        "outputId": "cfe10f7a-0371-4c94-81e8-b143d8211922"
      },
      "source": [
        "knn.fit(X_train, y_train)"
      ],
      "execution_count": null,
      "outputs": [
        {
          "output_type": "execute_result",
          "data": {
            "text/plain": [
              "KNeighborsClassifier(algorithm='auto', leaf_size=30, metric='minkowski',\n",
              "                     metric_params=None, n_jobs=None, n_neighbors=1, p=2,\n",
              "                     weights='uniform')"
            ]
          },
          "metadata": {
            "tags": []
          },
          "execution_count": 30
        }
      ]
    },
    {
      "cell_type": "markdown",
      "metadata": {
        "id": "y_fYOn2c8shx"
      },
      "source": [
        "Making Predictions:\n",
        "We can now make predictions using this model on new data for which we might not know the correct labels"
      ]
    },
    {
      "cell_type": "code",
      "metadata": {
        "colab": {
          "base_uri": "https://localhost:8080/"
        },
        "id": "3FC9o1Ha9Hhg",
        "outputId": "c27fa9a9-768d-4262-cdd0-1a3b462a50e7"
      },
      "source": [
        "X_new = np.array([[5,2.9,1,0.2]])\n",
        "\n",
        "print(\"X_new.shape:{}\".format(X_new.shape))"
      ],
      "execution_count": null,
      "outputs": [
        {
          "output_type": "stream",
          "text": [
            "X_new.shape:(1, 4)\n"
          ],
          "name": "stdout"
        }
      ]
    },
    {
      "cell_type": "markdown",
      "metadata": {
        "id": "NEfaZeR69tZG"
      },
      "source": [
        "To make prediction we call the predict method of the knn object :"
      ]
    },
    {
      "cell_type": "code",
      "metadata": {
        "colab": {
          "base_uri": "https://localhost:8080/"
        },
        "id": "Gt2dEj2U_sXN",
        "outputId": "201bf8b4-5467-4026-a4d9-5a41dc73d989"
      },
      "source": [
        "prediction = knn.predict(X_new)\n",
        "\n",
        "print(\"Prediction:{}\".format(prediction))\n",
        "print(\"Predicted target name:{}\".format(iris_dataset['target_names'][prediction]))"
      ],
      "execution_count": null,
      "outputs": [
        {
          "output_type": "stream",
          "text": [
            "Prediction:[0]\n",
            "Predicted target name:['setosa']\n"
          ],
          "name": "stdout"
        }
      ]
    },
    {
      "cell_type": "code",
      "metadata": {
        "id": "vTNuHZLJAbdR"
      },
      "source": [
        ""
      ],
      "execution_count": null,
      "outputs": []
    },
    {
      "cell_type": "code",
      "metadata": {
        "colab": {
          "base_uri": "https://localhost:8080/"
        },
        "id": "RIW2ZoakAc48",
        "outputId": "9289e121-a068-4944-bfea-66e5782857f4"
      },
      "source": [
        "y_pred = knn.predict(X_test)\n",
        "print(\"Test set predictions:\\n{}\".format(y_pred))"
      ],
      "execution_count": null,
      "outputs": [
        {
          "output_type": "stream",
          "text": [
            "Test set predictions:\n",
            "[2 1 0 2 0 2 0 1 1 1 2 1 1 1 1 0 1 1 0 0 2 1 0 0 2 0 0 1 1 0 2 1 0 2 2 1 0\n",
            " 2]\n"
          ],
          "name": "stdout"
        }
      ]
    },
    {
      "cell_type": "code",
      "metadata": {
        "colab": {
          "base_uri": "https://localhost:8080/"
        },
        "id": "w_g4XgzJBAX6",
        "outputId": "7c2ae641-40ab-4a8b-9a64-8b3aa8b1cac0"
      },
      "source": [
        "print(\"Test set score:{}\".format( np.mean (y_pred == y_test)))"
      ],
      "execution_count": null,
      "outputs": [
        {
          "output_type": "stream",
          "text": [
            "Test set score:0.9736842105263158\n"
          ],
          "name": "stdout"
        }
      ]
    }
  ]
}